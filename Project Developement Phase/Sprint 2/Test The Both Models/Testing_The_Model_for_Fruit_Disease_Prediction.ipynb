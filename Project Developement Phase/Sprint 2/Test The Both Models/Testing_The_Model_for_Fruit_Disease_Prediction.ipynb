{
  "nbformat": 4,
  "nbformat_minor": 0,
  "metadata": {
    "colab": {
      "provenance": []
    },
    "kernelspec": {
      "name": "python3",
      "display_name": "Python 3"
    },
    "language_info": {
      "name": "python"
    }
  },
  "cells": [
    {
      "cell_type": "code",
      "execution_count": 1,
      "metadata": {
        "colab": {
          "base_uri": "https://localhost:8080/"
        },
        "id": "rwvjBObcufcT",
        "outputId": "9ebb2130-05a0-4aec-9d79-20fa6dec5f80"
      },
      "outputs": [
        {
          "output_type": "stream",
          "name": "stdout",
          "text": [
            "/content/drive/MyDrive/Projects\n"
          ]
        }
      ],
      "source": [
        "cd /content/drive/MyDrive/Projects"
      ]
    },
    {
      "cell_type": "code",
      "source": [
        "from tensorflow.keras.preprocessing import image\n",
        "from tensorflow.keras.preprocessing.image import img_to_array\n",
        "from tensorflow.keras.models import load_model\n",
        "import numpy as np"
      ],
      "metadata": {
        "id": "xUvYZ8QavP9g"
      },
      "execution_count": 2,
      "outputs": []
    },
    {
      "cell_type": "code",
      "source": [
        "model = load_model(\"fruit.h5\")"
      ],
      "metadata": {
        "id": "AzKEuE8BvVCq"
      },
      "execution_count": 3,
      "outputs": []
    },
    {
      "cell_type": "code",
      "source": [
        "img=image.load_img(\"/content/drive/MyDrive/Projects/Dataset Plant Disease/fruit-dataset/fruit-dataset/train/Apple___healthy/04125537-801d-4e15-b66c-224b09b4e1a7___RS_HL 7457.JPG\",target_size=(64,64))"
      ],
      "metadata": {
        "id": "8XKUbBv1vZVI"
      },
      "execution_count": 4,
      "outputs": []
    },
    {
      "cell_type": "code",
      "source": [
        "img"
      ],
      "metadata": {
        "colab": {
          "base_uri": "https://localhost:8080/",
          "height": 81
        },
        "id": "nDo1ES_nv0-h",
        "outputId": "d65b0fda-17c9-4ee6-d796-58e585c85c1b"
      },
      "execution_count": 5,
      "outputs": [
        {
          "output_type": "execute_result",
          "data": {
            "text/plain": [
              "<PIL.Image.Image image mode=RGB size=64x64 at 0x7F2AE8906790>"
            ],
            "image/png": "[encoded data removed]"
          },
          "metadata": {},
          "execution_count": 5
        }
      ]
    },
    {
      "cell_type": "code",
      "source": [
        "x=image.img_to_array(img)"
      ],
      "metadata": {
        "id": "_jEgPghmv6WC"
      },
      "execution_count": 6,
      "outputs": []
    },
    {
      "cell_type": "code",
      "source": [
        "x"
      ],
      "metadata": {
        "colab": {
          "base_uri": "https://localhost:8080/"
        },
        "id": "9I7-1yPLwA4G",
        "outputId": "dc9b7df0-fc30-4335-800e-7b21fe439c4b"
      },
      "execution_count": 7,
      "outputs": [
        {
          "output_type": "execute_result",
          "data": {
            "text/plain": [
              "array([[[197., 193., 207.],\n",
              "        [185., 181., 195.],\n",
              "        [188., 184., 198.],\n",
              "        ...,\n",
              "        [126., 119., 135.],\n",
              "        [131., 124., 140.],\n",
              "        [130., 123., 139.]],\n",
              "\n",
              "       [[194., 190., 204.],\n",
              "        [195., 191., 205.],\n",
              "        [196., 192., 206.],\n",
              "        ...,\n",
              "        [142., 135., 151.],\n",
              "        [122., 115., 131.],\n",
              "        [141., 134., 150.]],\n",
              "\n",
              "       [[198., 194., 208.],\n",
              "        [199., 195., 209.],\n",
              "        [203., 199., 213.],\n",
              "        ...,\n",
              "        [135., 128., 144.],\n",
              "        [145., 138., 154.],\n",
              "        [143., 136., 152.]],\n",
              "\n",
              "       ...,\n",
              "\n",
              "       [[190., 188., 202.],\n",
              "        [188., 186., 200.],\n",
              "        [179., 177., 191.],\n",
              "        ...,\n",
              "        [135., 131., 145.],\n",
              "        [ 23.,  21.,  34.],\n",
              "        [ 38.,  38.,  50.]],\n",
              "\n",
              "       [[183., 181., 195.],\n",
              "        [189., 187., 201.],\n",
              "        [192., 190., 204.],\n",
              "        ...,\n",
              "        [126., 120., 134.],\n",
              "        [120., 116., 130.],\n",
              "        [ 31.,  29.,  42.]],\n",
              "\n",
              "       [[190., 188., 202.],\n",
              "        [188., 186., 200.],\n",
              "        [183., 181., 195.],\n",
              "        ...,\n",
              "        [110., 102., 117.],\n",
              "        [131., 125., 139.],\n",
              "        [ 48.,  44.,  58.]]], dtype=float32)"
            ]
          },
          "metadata": {},
          "execution_count": 7
        }
      ]
    },
    {
      "cell_type": "code",
      "source": [
        "x=np.expand_dims(x,axis=0)"
      ],
      "metadata": {
        "id": "hvK1dplBwq73"
      },
      "execution_count": 8,
      "outputs": []
    },
    {
      "cell_type": "code",
      "source": [
        "x"
      ],
      "metadata": {
        "colab": {
          "base_uri": "https://localhost:8080/"
        },
        "id": "85pRYWPxwxK5",
        "outputId": "7f536a37-8060-4dce-de45-b542acf6e9ef"
      },
      "execution_count": 9,
      "outputs": [
        {
          "output_type": "execute_result",
          "data": {
            "text/plain": [
              "array([[[[197., 193., 207.],\n",
              "         [185., 181., 195.],\n",
              "         [188., 184., 198.],\n",
              "         ...,\n",
              "         [126., 119., 135.],\n",
              "         [131., 124., 140.],\n",
              "         [130., 123., 139.]],\n",
              "\n",
              "        [[194., 190., 204.],\n",
              "         [195., 191., 205.],\n",
              "         [196., 192., 206.],\n",
              "         ...,\n",
              "         [142., 135., 151.],\n",
              "         [122., 115., 131.],\n",
              "         [141., 134., 150.]],\n",
              "\n",
              "        [[198., 194., 208.],\n",
              "         [199., 195., 209.],\n",
              "         [203., 199., 213.],\n",
              "         ...,\n",
              "         [135., 128., 144.],\n",
              "         [145., 138., 154.],\n",
              "         [143., 136., 152.]],\n",
              "\n",
              "        ...,\n",
              "\n",
              "        [[190., 188., 202.],\n",
              "         [188., 186., 200.],\n",
              "         [179., 177., 191.],\n",
              "         ...,\n",
              "         [135., 131., 145.],\n",
              "         [ 23.,  21.,  34.],\n",
              "         [ 38.,  38.,  50.]],\n",
              "\n",
              "        [[183., 181., 195.],\n",
              "         [189., 187., 201.],\n",
              "         [192., 190., 204.],\n",
              "         ...,\n",
              "         [126., 120., 134.],\n",
              "         [120., 116., 130.],\n",
              "         [ 31.,  29.,  42.]],\n",
              "\n",
              "        [[190., 188., 202.],\n",
              "         [188., 186., 200.],\n",
              "         [183., 181., 195.],\n",
              "         ...,\n",
              "         [110., 102., 117.],\n",
              "         [131., 125., 139.],\n",
              "         [ 48.,  44.,  58.]]]], dtype=float32)"
            ]
          },
          "metadata": {},
          "execution_count": 9
        }
      ]
    },
    {
      "cell_type": "code",
      "source": [
        "y=np.argmax(model.predict(x),axis=1)"
      ],
      "metadata": {
        "colab": {
          "base_uri": "https://localhost:8080/"
        },
        "id": "EXhUIsQ1w8O5",
        "outputId": "10314cdb-18e0-4145-900d-d685ee3245fb"
      },
      "execution_count": 10,
      "outputs": [
        {
          "output_type": "stream",
          "name": "stdout",
          "text": [
            "1/1 [==============================] - 0s 390ms/step\n"
          ]
        }
      ]
    },
    {
      "cell_type": "code",
      "source": [
        "y"
      ],
      "metadata": {
        "colab": {
          "base_uri": "https://localhost:8080/"
        },
        "id": "gAuoRm4pxBzI",
        "outputId": "43528187-3977-4a5a-fbb8-e20e149e4c8a"
      },
      "execution_count": 11,
      "outputs": [
        {
          "output_type": "execute_result",
          "data": {
            "text/plain": [
              "array([1])"
            ]
          },
          "metadata": {},
          "execution_count": 11
        }
      ]
    }
  ]
}