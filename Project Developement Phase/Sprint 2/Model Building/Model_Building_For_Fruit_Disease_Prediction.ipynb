{
  "nbformat": 4,
  "nbformat_minor": 0,
  "metadata": {
    "colab": {
      "provenance": [],
      "collapsed_sections": []
    },
    "kernelspec": {
      "name": "python3",
      "display_name": "Python 3"
    },
    "language_info": {
      "name": "python"
    }
  },
  "cells": [
    {
      "cell_type": "code",
      "source": [
        "from google.colab import drive\n",
        "drive.mount('/content/drive')"
      ],
      "metadata": {
        "colab": {
          "base_uri": "https://localhost:8080/"
        },
        "id": "vtiCSPJYjMEG",
        "outputId": "6070d828-1b6c-4d95-e350-ad17c1b30ded"
      },
      "execution_count": 1,
      "outputs": [
        {
          "output_type": "stream",
          "name": "stdout",
          "text": [
            "Mounted at /content/drive\n"
          ]
        }
      ]
    },
    {
      "cell_type": "code",
      "source": [
        "from tensorflow.keras.preprocessing.image import ImageDataGenerator"
      ],
      "metadata": {
        "id": "UINCInMmjRM_"
      },
      "execution_count": 2,
      "outputs": []
    },
    {
      "cell_type": "code",
      "source": [
        "train_datagen = ImageDataGenerator(rescale= 1./255,horizontal_flip = True,vertical_flip = True,zoom_range = 0.2) \n",
        "test_datagen = ImageDataGenerator(rescale= 1./255)"
      ],
      "metadata": {
        "id": "kAaaGoQKjdPX"
      },
      "execution_count": 3,
      "outputs": []
    },
    {
      "cell_type": "code",
      "source": [
        "x_train = train_datagen.flow_from_directory(r\"/content/drive/MyDrive/Projects/Dataset Plant Disease/fruit-dataset/fruit-dataset/train\",target_size = (64,64),  class_mode = \"categorical\",batch_size = 24)\n",
        "x_test = test_datagen.flow_from_directory(r\"/content/drive/MyDrive/Projects/Dataset Plant Disease/fruit-dataset/fruit-dataset/test\",target_size = (64,64),  class_mode = \"categorical\",batch_size = 24)"
      ],
      "metadata": {
        "colab": {
          "base_uri": "https://localhost:8080/"
        },
        "id": "DMb1kQHCjmSk",
        "outputId": "2b23d9a8-674a-4591-fa81-f4970a1df93f"
      },
      "execution_count": 4,
      "outputs": [
        {
          "output_type": "stream",
          "name": "stdout",
          "text": [
            "Found 5384 images belonging to 6 classes.\n",
            "Found 1661 images belonging to 6 classes.\n"
          ]
        }
      ]
    },
    {
      "cell_type": "code",
      "source": [
        "x_train.class_indices"
      ],
      "metadata": {
        "colab": {
          "base_uri": "https://localhost:8080/"
        },
        "id": "jqLGNF8Bj4L9",
        "outputId": "402b19f1-fbee-4070-9f56-0fd14095657b"
      },
      "execution_count": 5,
      "outputs": [
        {
          "output_type": "execute_result",
          "data": {
            "text/plain": [
              "{'Apple___Black_rot': 0,\n",
              " 'Apple___healthy': 1,\n",
              " 'Corn_(maize)___Northern_Leaf_Blight': 2,\n",
              " 'Corn_(maize)___healthy': 3,\n",
              " 'Peach___Bacterial_spot': 4,\n",
              " 'Peach___healthy': 5}"
            ]
          },
          "metadata": {},
          "execution_count": 5
        }
      ]
    },
    {
      "cell_type": "code",
      "source": [
        "from tensorflow.keras.models import Sequential \n",
        "from tensorflow.keras.layers import Dense \n",
        "from tensorflow.keras.layers import Convolution2D,MaxPooling2D,Flatten"
      ],
      "metadata": {
        "id": "R4zzdAZZj77E"
      },
      "execution_count": 6,
      "outputs": []
    },
    {
      "cell_type": "code",
      "source": [
        "model=Sequential()"
      ],
      "metadata": {
        "id": "4aoneYzMj__m"
      },
      "execution_count": 7,
      "outputs": []
    },
    {
      "cell_type": "code",
      "source": [
        "model.add(Convolution2D(32, (3,3),input_shape=(64,64,3),activation='relu')) "
      ],
      "metadata": {
        "id": "VX6MJVgykDzK"
      },
      "execution_count": 8,
      "outputs": []
    },
    {
      "cell_type": "code",
      "source": [
        "model.add(MaxPooling2D(pool_size=(2,2)))"
      ],
      "metadata": {
        "id": "bfu0bbF2kKTu"
      },
      "execution_count": 9,
      "outputs": []
    },
    {
      "cell_type": "code",
      "source": [
        "model.add(Flatten())"
      ],
      "metadata": {
        "id": "9PEnuNo9kOKt"
      },
      "execution_count": 10,
      "outputs": []
    },
    {
      "cell_type": "code",
      "source": [
        "Model: \"sequential\""
      ],
      "metadata": {
        "id": "_VDLLTTvkR2Q"
      },
      "execution_count": 11,
      "outputs": []
    },
    {
      "cell_type": "code",
      "source": [
        "model.add(Dense(300,activation='relu')) \n",
        "model.add(Dense(150,activation='relu'))"
      ],
      "metadata": {
        "id": "ndn0WDddkWB7"
      },
      "execution_count": 12,
      "outputs": []
    },
    {
      "cell_type": "code",
      "source": [
        "model.add(Dense(6,activation='softmax')) \n",
        "len(x_train)"
      ],
      "metadata": {
        "colab": {
          "base_uri": "https://localhost:8080/"
        },
        "id": "Hx2oNGRQkZUk",
        "outputId": "9ce65659-af50-4fd9-a6ed-6b4f97c115a8"
      },
      "execution_count": 13,
      "outputs": [
        {
          "output_type": "execute_result",
          "data": {
            "text/plain": [
              "225"
            ]
          },
          "metadata": {},
          "execution_count": 13
        }
      ]
    },
    {
      "cell_type": "code",
      "source": [
        "model.compile(loss='categorical_crossentropy',optimizer='adam',metrics =[\"accuracy\"])"
      ],
      "metadata": {
        "id": "Qzwj80lrkdK7"
      },
      "execution_count": 14,
      "outputs": []
    },
    {
      "cell_type": "code",
      "source": [
        "model.fit(x_train,steps_per_epoch=len(x_train),validation_data=x_test, validation_steps=len(x_test),epochs=10)"
      ],
      "metadata": {
        "colab": {
          "base_uri": "https://localhost:8080/"
        },
        "id": "wmztqH2YkhOn",
        "outputId": "6be4499d-40bd-44f0-ede4-c4158086f57d"
      },
      "execution_count": 15,
      "outputs": [
        {
          "output_type": "stream",
          "name": "stdout",
          "text": [
            "Epoch 1/10\n",
            "225/225 [==============================] - 1491s 7s/step - loss: 0.7883 - accuracy: 0.7387 - val_loss: 0.3495 - val_accuracy: 0.8718\n",
            "Epoch 2/10\n",
            "225/225 [==============================] - 55s 244ms/step - loss: 0.3495 - accuracy: 0.8741 - val_loss: 0.3127 - val_accuracy: 0.8790\n",
            "Epoch 3/10\n",
            "225/225 [==============================] - 54s 241ms/step - loss: 0.2712 - accuracy: 0.9062 - val_loss: 0.1584 - val_accuracy: 0.9356\n",
            "Epoch 4/10\n",
            "225/225 [==============================] - 54s 240ms/step - loss: 0.2099 - accuracy: 0.9276 - val_loss: 0.1658 - val_accuracy: 0.9362\n",
            "Epoch 5/10\n",
            "225/225 [==============================] - 54s 242ms/step - loss: 0.1631 - accuracy: 0.9443 - val_loss: 0.1496 - val_accuracy: 0.9476\n",
            "Epoch 6/10\n",
            "225/225 [==============================] - 54s 241ms/step - loss: 0.1680 - accuracy: 0.9415 - val_loss: 0.2384 - val_accuracy: 0.9163\n",
            "Epoch 7/10\n",
            "225/225 [==============================] - 55s 243ms/step - loss: 0.1680 - accuracy: 0.9396 - val_loss: 0.1249 - val_accuracy: 0.9524\n",
            "Epoch 8/10\n",
            "225/225 [==============================] - 54s 240ms/step - loss: 0.1505 - accuracy: 0.9525 - val_loss: 0.1355 - val_accuracy: 0.9579\n",
            "Epoch 9/10\n",
            "225/225 [==============================] - 58s 258ms/step - loss: 0.1076 - accuracy: 0.9621 - val_loss: 0.2224 - val_accuracy: 0.9290\n",
            "Epoch 10/10\n",
            "225/225 [==============================] - 57s 252ms/step - loss: 0.1210 - accuracy: 0.9567 - val_loss: 0.2183 - val_accuracy: 0.9253\n"
          ]
        },
        {
          "output_type": "execute_result",
          "data": {
            "text/plain": [
              "<keras.callbacks.History at 0x7fad053ee310>"
            ]
          },
          "metadata": {},
          "execution_count": 15
        }
      ]
    },
    {
      "cell_type": "code",
      "source": [
        "cd /content/drive/MyDrive/Projects"
      ],
      "metadata": {
        "colab": {
          "base_uri": "https://localhost:8080/"
        },
        "id": "sawxLbRJkj_5",
        "outputId": "b1f368cd-e0fc-4922-e831-c22026ae553c"
      },
      "execution_count": 16,
      "outputs": [
        {
          "output_type": "stream",
          "name": "stdout",
          "text": [
            "/content/drive/MyDrive/Projects\n"
          ]
        }
      ]
    },
    {
      "cell_type": "code",
      "source": [
        "model.save('fruit.h5')"
      ],
      "metadata": {
        "id": "j2sqjuj_ktS3"
      },
      "execution_count": 17,
      "outputs": []
    },
    {
      "cell_type": "code",
      "source": [
        "model.summary()"
      ],
      "metadata": {
        "colab": {
          "base_uri": "https://localhost:8080/"
        },
        "id": "iAnORImMkwmu",
        "outputId": "16fc26a5-8d5b-45ac-cc93-1d6c58184ff7"
      },
      "execution_count": 18,
      "outputs": [
        {
          "output_type": "stream",
          "name": "stdout",
          "text": [
            "Model: \"sequential\"\n",
            "_________________________________________________________________\n",
            " Layer (type)                Output Shape              Param #   \n",
            "=================================================================\n",
            " conv2d (Conv2D)             (None, 62, 62, 32)        896       \n",
            "                                                                 \n",
            " max_pooling2d (MaxPooling2D  (None, 31, 31, 32)       0         \n",
            " )                                                               \n",
            "                                                                 \n",
            " flatten (Flatten)           (None, 30752)             0         \n",
            "                                                                 \n",
            " dense (Dense)               (None, 300)               9225900   \n",
            "                                                                 \n",
            " dense_1 (Dense)             (None, 150)               45150     \n",
            "                                                                 \n",
            " dense_2 (Dense)             (None, 6)                 906       \n",
            "                                                                 \n",
            "=================================================================\n",
            "Total params: 9,272,852\n",
            "Trainable params: 9,272,852\n",
            "Non-trainable params: 0\n",
            "_________________________________________________________________\n"
          ]
        }
      ]
    }
  ]
}