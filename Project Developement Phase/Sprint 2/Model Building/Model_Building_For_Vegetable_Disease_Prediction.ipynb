{
  "nbformat": 4,
  "nbformat_minor": 0,
  "metadata": {
    "colab": {
      "provenance": [],
      "collapsed_sections": []
    },
    "kernelspec": {
      "name": "python3",
      "display_name": "Python 3"
    },
    "language_info": {
      "name": "python"
    }
  },
  "cells": [
    {
      "cell_type": "code",
      "source": [
        "from tensorflow.keras.preprocessing.image import ImageDataGenerator"
      ],
      "metadata": {
        "id": "YEau0hgX0Vpf"
      },
      "execution_count": 1,
      "outputs": []
    },
    {
      "cell_type": "code",
      "execution_count": 3,
      "metadata": {
        "id": "5feQiOxTyxPK"
      },
      "outputs": [],
      "source": [
        "train_datagen = ImageDataGenerator(rescale= 1./255,horizontal_flip = True,vertical_flip = True,zoom_range = 0.2) \n",
        "test_datagen = ImageDataGenerator(rescale= 1./255)"
      ]
    },
    {
      "cell_type": "code",
      "source": [
        "x_train = train_datagen.flow_from_directory(r\"/content/drive/MyDrive/Projects/Dataset Plant Disease/Veg-dataset/Veg-dataset/train_set\",target_size = (128,128),batch_size = 128,  class_mode = \"categorical\") "
      ],
      "metadata": {
        "colab": {
          "base_uri": "https://localhost:8080/"
        },
        "id": "ZkpaYp-_0s78",
        "outputId": "080bc603-cef1-4543-a383-a542a26ca0df"
      },
      "execution_count": 4,
      "outputs": [
        {
          "output_type": "stream",
          "name": "stdout",
          "text": [
            "Found 11386 images belonging to 9 classes.\n"
          ]
        }
      ]
    },
    {
      "cell_type": "code",
      "source": [
        "x_test = test_datagen.flow_from_directory(r\"/content/drive/MyDrive/Projects/Dataset Plant Disease/Veg-dataset/Veg-dataset/test_set\",target_size = (128,128),batch_size = 128,  class_mode = \"categorical\") "
      ],
      "metadata": {
        "colab": {
          "base_uri": "https://localhost:8080/"
        },
        "id": "E4UIbX6Y0wtM",
        "outputId": "218a1f5e-86d9-45d3-d955-7bb5bda3bb76"
      },
      "execution_count": 5,
      "outputs": [
        {
          "output_type": "stream",
          "name": "stdout",
          "text": [
            "Found 3416 images belonging to 9 classes.\n"
          ]
        }
      ]
    },
    {
      "cell_type": "code",
      "source": [
        "from tensorflow.keras.models import Sequential \n",
        "from tensorflow.keras.layers import Dense \n",
        "from tensorflow.keras.layers import Convolution2D\n",
        "from tensorflow.keras.layers import MaxPooling2D \n",
        "from tensorflow.keras.layers import Flatten"
      ],
      "metadata": {
        "id": "UTbvNlm71InD"
      },
      "execution_count": 6,
      "outputs": []
    },
    {
      "cell_type": "code",
      "source": [
        "model=Sequential()"
      ],
      "metadata": {
        "id": "ulosfT8Y1jSy"
      },
      "execution_count": 7,
      "outputs": []
    },
    {
      "cell_type": "code",
      "source": [
        "model.add(Convolution2D(32, (3,3),input_shape=(128,128,3),activation='relu')) "
      ],
      "metadata": {
        "id": "X43i2RT_1uFd"
      },
      "execution_count": 8,
      "outputs": []
    },
    {
      "cell_type": "code",
      "source": [
        "model.add(MaxPooling2D(pool_size=(2,2)))"
      ],
      "metadata": {
        "id": "9TVFOgLq1w18"
      },
      "execution_count": 9,
      "outputs": []
    },
    {
      "cell_type": "code",
      "source": [
        "model.add(Flatten())"
      ],
      "metadata": {
        "id": "D2J0KY7Y17V9"
      },
      "execution_count": 10,
      "outputs": []
    },
    {
      "cell_type": "code",
      "source": [
        "model.summary()"
      ],
      "metadata": {
        "colab": {
          "base_uri": "https://localhost:8080/"
        },
        "id": "dxZGtplx2F98",
        "outputId": "cec32b89-a29b-4b30-c38a-cad2c5592823"
      },
      "execution_count": 11,
      "outputs": [
        {
          "output_type": "stream",
          "name": "stdout",
          "text": [
            "Model: \"sequential\"\n",
            "_________________________________________________________________\n",
            " Layer (type)                Output Shape              Param #   \n",
            "=================================================================\n",
            " conv2d (Conv2D)             (None, 126, 126, 32)      896       \n",
            "                                                                 \n",
            " max_pooling2d (MaxPooling2D  (None, 63, 63, 32)       0         \n",
            " )                                                               \n",
            "                                                                 \n",
            " flatten (Flatten)           (None, 127008)            0         \n",
            "                                                                 \n",
            "=================================================================\n",
            "Total params: 896\n",
            "Trainable params: 896\n",
            "Non-trainable params: 0\n",
            "_________________________________________________________________\n"
          ]
        }
      ]
    },
    {
      "cell_type": "code",
      "source": [
        "Model: \"sequential\""
      ],
      "metadata": {
        "id": "k82SmfR-2O_n"
      },
      "execution_count": 12,
      "outputs": []
    },
    {
      "cell_type": "code",
      "source": [
        "model.add(Dense(300,activation='relu')) \n",
        "model.add(Dense(150,activation='relu'))"
      ],
      "metadata": {
        "id": "3oB9_oNT2Vey"
      },
      "execution_count": 13,
      "outputs": []
    },
    {
      "cell_type": "code",
      "source": [
        "model.add(Dense(9,activation='softmax')) \n",
        "len(x_train)"
      ],
      "metadata": {
        "colab": {
          "base_uri": "https://localhost:8080/"
        },
        "id": "ALwblPMu2bzQ",
        "outputId": "07dbc16b-5cd4-43a6-f5b9-baa40a09de1f"
      },
      "execution_count": 14,
      "outputs": [
        {
          "output_type": "execute_result",
          "data": {
            "text/plain": [
              "89"
            ]
          },
          "metadata": {},
          "execution_count": 14
        }
      ]
    },
    {
      "cell_type": "code",
      "source": [
        "model.compile(loss='categorical_crossentropy',optimizer='adam',metrics =[\"accuracy\"])"
      ],
      "metadata": {
        "id": "ne3z6WNi2suv"
      },
      "execution_count": 15,
      "outputs": []
    },
    {
      "cell_type": "code",
      "source": [
        "model.fit(x_train,steps_per_epoch=len(x_train),validation_data=x_test, validation_steps=len(x_test),epochs=10)"
      ],
      "metadata": {
        "id": "mX6sUyUz3WfX",
        "colab": {
          "base_uri": "https://localhost:8080/"
        },
        "outputId": "ad8a71ac-6b07-4bb4-e4c8-ae017259c5e3"
      },
      "execution_count": 16,
      "outputs": [
        {
          "output_type": "stream",
          "name": "stdout",
          "text": [
            "Epoch 1/10\n",
            "89/89 [==============================] - 3440s 39s/step - loss: 1.9254 - accuracy: 0.4533 - val_loss: 1.0343 - val_accuracy: 0.6335\n",
            "Epoch 2/10\n",
            "89/89 [==============================] - 234s 3s/step - loss: 0.7500 - accuracy: 0.7418 - val_loss: 0.5893 - val_accuracy: 0.7840\n",
            "Epoch 3/10\n",
            "89/89 [==============================] - 234s 3s/step - loss: 0.5177 - accuracy: 0.8243 - val_loss: 0.6918 - val_accuracy: 0.7649\n",
            "Epoch 4/10\n",
            "89/89 [==============================] - 233s 3s/step - loss: 0.4126 - accuracy: 0.8531 - val_loss: 0.6853 - val_accuracy: 0.7690\n",
            "Epoch 5/10\n",
            "89/89 [==============================] - 238s 3s/step - loss: 0.3724 - accuracy: 0.8686 - val_loss: 0.4335 - val_accuracy: 0.8498\n",
            "Epoch 6/10\n",
            "89/89 [==============================] - 240s 3s/step - loss: 0.3049 - accuracy: 0.8948 - val_loss: 0.5153 - val_accuracy: 0.8135\n",
            "Epoch 7/10\n",
            "89/89 [==============================] - 235s 3s/step - loss: 0.2771 - accuracy: 0.9062 - val_loss: 0.6330 - val_accuracy: 0.7922\n",
            "Epoch 8/10\n",
            "89/89 [==============================] - 238s 3s/step - loss: 0.2431 - accuracy: 0.9147 - val_loss: 0.6439 - val_accuracy: 0.7828\n",
            "Epoch 9/10\n",
            "89/89 [==============================] - 234s 3s/step - loss: 0.2513 - accuracy: 0.9133 - val_loss: 0.4082 - val_accuracy: 0.8653\n",
            "Epoch 10/10\n",
            "89/89 [==============================] - 241s 3s/step - loss: 0.2165 - accuracy: 0.9258 - val_loss: 0.4831 - val_accuracy: 0.8416\n"
          ]
        },
        {
          "output_type": "execute_result",
          "data": {
            "text/plain": [
              "<keras.callbacks.History at 0x7f787e8982d0>"
            ]
          },
          "metadata": {},
          "execution_count": 16
        }
      ]
    },
    {
      "cell_type": "code",
      "source": [
        "cd /content/drive/MyDrive/Projects"
      ],
      "metadata": {
        "colab": {
          "base_uri": "https://localhost:8080/"
        },
        "id": "91HkGwoikb6Y",
        "outputId": "cc0474f8-d67f-4296-f23d-16d4416e48d2"
      },
      "execution_count": 17,
      "outputs": [
        {
          "output_type": "stream",
          "name": "stdout",
          "text": [
            "/content/drive/MyDrive/Projects\n"
          ]
        }
      ]
    },
    {
      "cell_type": "code",
      "source": [
        "model.save('vegetable.h5')"
      ],
      "metadata": {
        "id": "5s4YhPtAkkVL"
      },
      "execution_count": 18,
      "outputs": []
    },
    {
      "cell_type": "code",
      "source": [
        "model.summary()"
      ],
      "metadata": {
        "colab": {
          "base_uri": "https://localhost:8080/"
        },
        "id": "D85fxiaPkn-Y",
        "outputId": "d527b773-2488-4413-dad1-060f3be74a08"
      },
      "execution_count": 19,
      "outputs": [
        {
          "output_type": "stream",
          "name": "stdout",
          "text": [
            "Model: \"sequential\"\n",
            "_________________________________________________________________\n",
            " Layer (type)                Output Shape              Param #   \n",
            "=================================================================\n",
            " conv2d (Conv2D)             (None, 126, 126, 32)      896       \n",
            "                                                                 \n",
            " max_pooling2d (MaxPooling2D  (None, 63, 63, 32)       0         \n",
            " )                                                               \n",
            "                                                                 \n",
            " flatten (Flatten)           (None, 127008)            0         \n",
            "                                                                 \n",
            " dense (Dense)               (None, 300)               38102700  \n",
            "                                                                 \n",
            " dense_1 (Dense)             (None, 150)               45150     \n",
            "                                                                 \n",
            " dense_2 (Dense)             (None, 9)                 1359      \n",
            "                                                                 \n",
            "=================================================================\n",
            "Total params: 38,150,105\n",
            "Trainable params: 38,150,105\n",
            "Non-trainable params: 0\n",
            "_________________________________________________________________\n"
          ]
        }
      ]
    }
  ]
}